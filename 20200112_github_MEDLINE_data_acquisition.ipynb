{
 "cells": [
  {
   "cell_type": "markdown",
   "metadata": {},
   "source": [
    "PubMed EDirect API\n",
    "\n",
    "We created a dataframe, a row for every record, with ___ columns consists of  PMID, Journal title, Journal abbreviation, Abstract title, Publication Year/ Month, Abstract, Affiliation, Publication type, Description, and Keywords, separated each column with  \\t /t"
   ]
  },
  {
   "cell_type": "code",
   "execution_count": null,
   "metadata": {},
   "outputs": [],
   "source": [
    "esearch -db pubmed -query \"orthopaedic[ad]\" \\\n",
    "-datetype PDAT -mindate 2019/12/01 -maxdate 2019/12/31 | \\\n",
    "efetch -format xml | \\\n",
    "xtract -pattern PubmedArticle -sep \",\" -element MedlineCitation/PMID PubDate/Year MedlineDate Title ISOAbbreviation PublicationType \\\n",
    "-block PubmedArticle -sep \"|\" -element Affiliation \\\n",
    "-block PubmedArticle -sep \",\" -element ArticleTitle AbstractText> orthopaedic_git_abs.txt"
   ]
  },
  {
   "cell_type": "code",
   "execution_count": null,
   "metadata": {},
   "outputs": [],
   "source": [
    "esearch -db pubmed -query \"orthopaedic[ad]\" \\\n",
    "-datetype PDAT -mindate 2019/12/01 -maxdate 2019/12/31 | \\\n",
    "efetch -format xml | \\\n",
    "xtract -pattern PubmedArticle -sep \",\" -element MedlineCitation/PMID Keyword > orthopaedic_git_kw.txt"
   ]
  },
  {
   "cell_type": "code",
   "execution_count": null,
   "metadata": {},
   "outputs": [],
   "source": [
    "esearch -db pubmed -query \"orthopedic[ad]\" \\\n",
    "-datetype PDAT -mindate 2019/12/01 -maxdate 2019/12/31 | \\\n",
    "efetch -format xml | \\\n",
    "xtract -pattern PubmedArticle -sep \",\" -element MedlineCitation/PMID PubDate/Year MedlineDate Title ISOAbbreviation PublicationType \\\n",
    "-block PubmedArticle -sep \"|\" -element Affiliation \\\n",
    "-block PubmedArticle -sep \",\" -element ArticleTitle AbstractText> orthopedic_git_abs.txt"
   ]
  },
  {
   "cell_type": "code",
   "execution_count": null,
   "metadata": {},
   "outputs": [],
   "source": [
    "esearch -db pubmed -query \"orthopedic[ad]\" \\\n",
    "-datetype PDAT -mindate 2019/12/01 -maxdate 2019/12/31 | \\\n",
    "efetch -format xml | \\\n",
    "xtract -pattern PubmedArticle -sep \",\" -element MedlineCitation/PMID Keyword > orthopedic_git_kw.txt"
   ]
  },
  {
   "cell_type": "code",
   "execution_count": null,
   "metadata": {},
   "outputs": [],
   "source": []
  }
 ],
 "metadata": {
  "kernelspec": {
   "display_name": "Python 3",
   "language": "python",
   "name": "python3"
  },
  "language_info": {
   "codemirror_mode": {
    "name": "ipython",
    "version": 3
   },
   "file_extension": ".py",
   "mimetype": "text/x-python",
   "name": "python",
   "nbconvert_exporter": "python",
   "pygments_lexer": "ipython3",
   "version": "3.7.4"
  }
 },
 "nbformat": 4,
 "nbformat_minor": 2
}
